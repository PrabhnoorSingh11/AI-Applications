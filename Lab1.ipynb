{
  "nbformat": 4,
  "nbformat_minor": 0,
  "metadata": {
    "colab": {
      "provenance": [],
      "authorship_tag": "ABX9TyO5K+LSyomBY1E0NDEWhU65"
    },
    "kernelspec": {
      "name": "python3",
      "display_name": "Python 3"
    },
    "language_info": {
      "name": "python"
    }
  },
  "cells": [
    {
      "cell_type": "markdown",
      "source": [
        "Lab 1 _ Python Basics\n"
      ],
      "metadata": {
        "id": "Fm80gyfDVbvO"
      }
    },
    {
      "cell_type": "code",
      "execution_count": null,
      "metadata": {
        "colab": {
          "base_uri": "https://localhost:8080/"
        },
        "id": "1FPAExrSLTDy",
        "outputId": "97ded5a1-6316-43d8-a2a0-f442d92a4de0"
      },
      "outputs": [
        {
          "output_type": "stream",
          "name": "stdout",
          "text": [
            "['Hi', 'there', 'Class!']\n"
          ]
        }
      ],
      "source": [
        "s = \"Hi there Class!\"\n",
        "words = s.split()\n",
        "print(words)\n"
      ]
    },
    {
      "cell_type": "code",
      "source": [
        "# Given the variables planet = \"Earth\"\n",
        "# diameter = 12742\n",
        "# Use .format() to print the following string :- \n",
        "# The diameter of Earth is 12742 kilometres\n",
        "\n",
        "txt1 = \"The diameter of {planet} is {diameter} kilometers.\".format(planet = \"Earth\", diameter = 12742)\n",
        "print(txt1)"
      ],
      "metadata": {
        "colab": {
          "base_uri": "https://localhost:8080/"
        },
        "id": "5N3sXfXmMj0E",
        "outputId": "5c1c485f-c5ab-44e3-9430-140f4eb74e16"
      },
      "execution_count": null,
      "outputs": [
        {
          "output_type": "stream",
          "name": "stdout",
          "text": [
            "The diameter of Earth is 12742 kilometers.\n"
          ]
        }
      ]
    },
    {
      "cell_type": "code",
      "source": [
        "# use indexing to grab the word hello # python nested list \n",
        "\n",
        "lst = [1,2,[3,4],[5,[100,200,['hello']],23,11],1,7]\n",
        "print(lst[3][1][2][0])"
      ],
      "metadata": {
        "colab": {
          "base_uri": "https://localhost:8080/"
        },
        "id": "mPTjqtvINjiI",
        "outputId": "21fc7075-5584-4683-b959-03d4c0413171"
      },
      "execution_count": null,
      "outputs": [
        {
          "output_type": "stream",
          "name": "stdout",
          "text": [
            "hello\n"
          ]
        }
      ]
    },
    {
      "cell_type": "code",
      "source": [
        "# nested dictionary \n",
        "\n",
        "d = {'k1': [1,2,3,{'tricky':['oh','man','inception',{'target':[1,2,3,'hello']}]}] }\n",
        "a1 = d['k1'][3]\n",
        "# print(a1)\n",
        "b1 = a1['tricky'][3]['target'][3]\n",
        "print(b1)\n"
      ],
      "metadata": {
        "colab": {
          "base_uri": "https://localhost:8080/"
        },
        "id": "-1zbXtexOptT",
        "outputId": "50f917e7-2861-4368-9fc5-853f0feb07cb"
      },
      "execution_count": null,
      "outputs": [
        {
          "output_type": "stream",
          "name": "stdout",
          "text": [
            "hello\n"
          ]
        }
      ]
    },
    {
      "cell_type": "code",
      "source": [
        "# a function that grabs email address from a string \n",
        "\n",
        "\n",
        "# Importing module required for regular\n",
        "# expressions\n",
        "import re\n",
        "s = \"\"\"Hello from user@domain.com\"\"\"\n",
        "\n",
        "def GrabEmail(string):\n",
        "  lst = re.findall('\\S+@\\S+', string)\t\n",
        "  return lst \n",
        "\n",
        "a = GrabEmail(s)\n",
        "\n",
        "print(a[0])\n",
        "\n"
      ],
      "metadata": {
        "colab": {
          "base_uri": "https://localhost:8080/"
        },
        "id": "RnEefSjHQA9j",
        "outputId": "825e645e-e52a-4e91-8354-6cba19c6be20"
      },
      "execution_count": null,
      "outputs": [
        {
          "output_type": "stream",
          "name": "stdout",
          "text": [
            "user@domain.com\n"
          ]
        }
      ]
    },
    {
      "cell_type": "code",
      "source": [
        "# 7) a function that counts the no of times the word \"dog\" occurs in a string \n",
        "\n",
        "def dogCount(string):\n",
        "  a = string.count('dog')\n",
        "  return a\n",
        "\n",
        "s = \"\"\" The dog with the wagging tail barked at the other dog that passed by, but the second dog, who was a timid rescue dog, just cowered, as the first dog's dog owner scolded their dog for being too aggressive towards the other dog. \"\"\"\n",
        "\n",
        "print(dogCount(s))"
      ],
      "metadata": {
        "colab": {
          "base_uri": "https://localhost:8080/"
        },
        "id": "N-IxbPS6TCxX",
        "outputId": "3cbcd0f3-168c-4fa1-dc7e-89fc3f5f3173"
      },
      "execution_count": null,
      "outputs": [
        {
          "output_type": "stream",
          "name": "stdout",
          "text": [
            "8\n"
          ]
        }
      ]
    },
    {
      "cell_type": "code",
      "source": [
        "# 8 ) filter out the words from a list that don't start with the letter 's' _ use lambda expressions and the filter() function for that \n",
        "\n",
        "words = ['apple', 'spring','banana','cherry', 'soya', 'date', 'summer', 'elderberry', 'fig', 'grape', 'honeydew']\n",
        "filtered_words = list(filter(lambda x: x[0] != 's', words))\n",
        "print(filtered_words)\n"
      ],
      "metadata": {
        "colab": {
          "base_uri": "https://localhost:8080/"
        },
        "id": "58VeqKMPUE2i",
        "outputId": "351cf508-6468-491f-c35a-a154ae614271"
      },
      "execution_count": null,
      "outputs": [
        {
          "output_type": "stream",
          "name": "stdout",
          "text": [
            "['apple', 'banana', 'cherry', 'date', 'elderberry', 'fig', 'grape', 'honeydew']\n"
          ]
        }
      ]
    },
    {
      "cell_type": "code",
      "source": [
        "# 9 ) \n",
        "\n",
        "def caught_speeding(speed, bday) :\n",
        "  if(bday==True):\n",
        "      if(speed<=65):\n",
        "        print(\"No Challan\")\n",
        "      # elif(speed>=66 && speed<=85): #error\n",
        "      elif(66<=speed<=85) :\n",
        "        print(\"Small Challan\") \n",
        "      else:\n",
        "        print(\"Heavy Challan\") \n",
        "  else :\n",
        "      if(speed<=60):\n",
        "        print(\"No Challan\")\n",
        "      elif(61<=speed<=80):\n",
        "        print(\"Small Challan\") \n",
        "      else:\n",
        "        print(\"Heavy Challan\") \n",
        "\n",
        "r = caught_speeding(82,True)\n",
        "# print(r)\n",
        "a = caught_speeding(82,False)\n",
        "# print(a)"
      ],
      "metadata": {
        "id": "LAn2tBKOb1lB",
        "colab": {
          "base_uri": "https://localhost:8080/"
        },
        "outputId": "6c68607c-5023-477f-822f-27dcea864a44"
      },
      "execution_count": null,
      "outputs": [
        {
          "output_type": "stream",
          "name": "stdout",
          "text": [
            "Small Challan\n",
            "Heavy Challan\n"
          ]
        }
      ]
    },
    {
      "cell_type": "code",
      "source": [
        "# 10) to concatenate 2 lists index wise \n",
        "\n",
        "list1 = [\"M\", \"na\", \"i\", \"She\"]\n",
        "list2 = [\"y\", \"me\", \"s\", \"lly\"]\n",
        "\n",
        "# li = [ for i in list1 ] + [ for j in list2 ]  # doesn't work \n",
        "res = [i + j for i, j in zip(list1, list2)]\n",
        "print(str(res))"
      ],
      "metadata": {
        "colab": {
          "base_uri": "https://localhost:8080/"
        },
        "id": "Fotz6_PSS75q",
        "outputId": "4d424529-d6ce-4f15-8653-53632defffba"
      },
      "execution_count": null,
      "outputs": [
        {
          "output_type": "stream",
          "name": "stdout",
          "text": [
            "['My', 'name', 'is', 'Shelly']\n"
          ]
        }
      ]
    },
    {
      "cell_type": "code",
      "source": [
        "# 11)  Concatenate two lists in the following order \n",
        "# Expected Output: ['Hello Dear', 'Hello Sir', 'take Dear', 'take Sir']\n",
        "\n",
        "\n",
        "#using list comprehension\n",
        "\n",
        "list1 = [\"Hello \", \"take \"]\n",
        "list2 = [\"Dear\", \"Sir\"]\n",
        "result = [i + j for i in list1 for j in list2]\n",
        "print(result)\n"
      ],
      "metadata": {
        "colab": {
          "base_uri": "https://localhost:8080/"
        },
        "id": "OEgb-ZvMZVQA",
        "outputId": "1cce66cd-96c5-40d6-8892-0c0d255e0f04"
      },
      "execution_count": null,
      "outputs": [
        {
          "output_type": "stream",
          "name": "stdout",
          "text": [
            "['Hello Dear', 'Hello Sir', 'take Dear', 'take Sir']\n"
          ]
        }
      ]
    },
    {
      "cell_type": "code",
      "source": [
        "# Q12. Add item 7000 after 6000 in the following Python List\n",
        "# list1 = [10, 20, [300, 400, [5000, 6000], 500], 30, 40]\n",
        "\n",
        "list1 = [10, 20, [300, 400, [5000, 6000], 500], 30, 40]\n",
        "list1[2][2].insert(list1[2][2].index(6000)+1, 7000)\n",
        "print(list1)\n",
        "\n"
      ],
      "metadata": {
        "colab": {
          "base_uri": "https://localhost:8080/"
        },
        "id": "JH8BOqdBaDeQ",
        "outputId": "a3eacc45-d5a0-4155-f935-1aca8f9d0bfd"
      },
      "execution_count": null,
      "outputs": [
        {
          "output_type": "stream",
          "name": "stdout",
          "text": [
            "[10, 20, [300, 400, [5000, 6000, 7000], 500], 30, 40]\n"
          ]
        }
      ]
    },
    {
      "cell_type": "code",
      "source": [
        "# Q13. Given a Python list, remove all occurrence of 20 from the list\n",
        "# list1 = [5, 20, 15, 20, 25, 50, 20]\n",
        "\n",
        "# using list comprehension\n",
        "list1 = [5, 20, 15, 20, 25, 50, 20]\n",
        "list1 = [x for x in list1 if x != 20]\n",
        "print(list1)\n",
        "\n",
        "# or you can use filter() with lambda function\n",
        "# list1 = [5, 20, 15, 20, 25, 50, 20]\n",
        "# list1 = list(filter(lambda x: x != 20, list1))\n",
        "# print(list1)\n",
        "\n"
      ],
      "metadata": {
        "colab": {
          "base_uri": "https://localhost:8080/"
        },
        "id": "RXGSMbrUaISJ",
        "outputId": "156f229e-044f-4653-f045-4cff6d811fdb"
      },
      "execution_count": null,
      "outputs": [
        {
          "output_type": "stream",
          "name": "stdout",
          "text": [
            "[5, 15, 25, 50]\n"
          ]
        }
      ]
    },
    {
      "cell_type": "code",
      "source": [
        "# Q14. Check if a value 200 exists in a dictionary\n",
        "# d1 = {'a': 100, 'b': 200, 'c': 300}\n",
        "\n",
        "d1 = {'a': 100, 'b': 200, 'c': 300}\n",
        "if 200 in d1.values():\n",
        "    print(\"200 exists in the dictionary\")\n",
        "else:\n",
        "    print(\"200 does not exist in the dictionary\")\n",
        "\n"
      ],
      "metadata": {
        "colab": {
          "base_uri": "https://localhost:8080/"
        },
        "id": "2eKlk0ZjaMp8",
        "outputId": "223838f1-949e-4169-f984-c43b475b278e"
      },
      "execution_count": null,
      "outputs": [
        {
          "output_type": "stream",
          "name": "stdout",
          "text": [
            "200 exists in the dictionary\n"
          ]
        }
      ]
    },
    {
      "cell_type": "code",
      "source": [
        "# Q15. Find the sum of the series 2 +22 + 222 + 2222 + .. n terms\n",
        "\n",
        "n = 5\n",
        "sum = 0\n",
        "for i in range(1,n+1):\n",
        "    sum += int(str(2)*i)\n",
        "print(sum)\n"
      ],
      "metadata": {
        "colab": {
          "base_uri": "https://localhost:8080/"
        },
        "id": "A5rQK-lcaVWE",
        "outputId": "dc94ec8b-9596-41be-e9f7-665bead1cd2b"
      },
      "execution_count": null,
      "outputs": [
        {
          "output_type": "stream",
          "name": "stdout",
          "text": [
            "24690\n"
          ]
        }
      ]
    }
  ]
}